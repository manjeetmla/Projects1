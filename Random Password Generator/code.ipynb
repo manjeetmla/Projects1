{
 "cells": [
  {
   "cell_type": "code",
   "execution_count": 21,
   "id": "cb347e0c-04d3-45f7-acfc-7bce697a79e7",
   "metadata": {
    "tags": []
   },
   "outputs": [],
   "source": [
    "import random"
   ]
  },
  {
   "cell_type": "code",
   "execution_count": 22,
   "id": "daf918bf-9856-4ddb-b93e-29f6e234c407",
   "metadata": {
    "tags": []
   },
   "outputs": [],
   "source": [
    "characters = \"abcdefghijklmnopqrstuvwxyzABCDEFGHIJKLMNOPQRSTUVWXYZ0123456789\""
   ]
  },
  {
   "cell_type": "code",
   "execution_count": 23,
   "id": "26ecc77e-5d02-4608-a0bc-58fac1cf3915",
   "metadata": {
    "tags": []
   },
   "outputs": [
    {
     "name": "stdin",
     "output_type": "stream",
     "text": [
      "enter the length of req. password:  10\n"
     ]
    }
   ],
   "source": [
    "pass_length = int(input(\"enter the length of req. password: \"))"
   ]
  },
  {
   "cell_type": "code",
   "execution_count": 24,
   "id": "c58e15d8-2974-4301-8cb6-e923073bbf36",
   "metadata": {
    "tags": []
   },
   "outputs": [
    {
     "name": "stdin",
     "output_type": "stream",
     "text": [
      "enter the number of req. password:  4\n"
     ]
    }
   ],
   "source": [
    "pass_count = int(input(\"enter the number of req. password: \"))"
   ]
  },
  {
   "cell_type": "code",
   "execution_count": 25,
   "id": "2993c439-04bf-45af-a345-cf3a83dfa0b4",
   "metadata": {
    "tags": []
   },
   "outputs": [
    {
     "name": "stdout",
     "output_type": "stream",
     "text": [
      "The generated password is G6M6aXPu2S\n",
      "The generated password is D1vhYJT3IE\n",
      "The generated password is JoByHlbWY5\n",
      "The generated password is 01WoHmG0Ts\n"
     ]
    }
   ],
   "source": [
    "for i in range (0, pass_count):\n",
    "    password = \"\"\n",
    "    for j in range (0,pass_length):\n",
    "        pass_char = random.choice(characters)\n",
    "        password = password+pass_char\n",
    "    print(\"The generated password is\",password)"
   ]
  },
  {
   "cell_type": "code",
   "execution_count": null,
   "id": "70548173-e9ea-4260-b1d3-d7075f1ea436",
   "metadata": {
    "tags": []
   },
   "outputs": [],
   "source": []
  }
 ],
 "metadata": {
  "kernelspec": {
   "display_name": "Python 3 (ipykernel)",
   "language": "python",
   "name": "python3"
  },
  "language_info": {
   "codemirror_mode": {
    "name": "ipython",
    "version": 3
   },
   "file_extension": ".py",
   "mimetype": "text/x-python",
   "name": "python",
   "nbconvert_exporter": "python",
   "pygments_lexer": "ipython3",
   "version": "3.11.4"
  }
 },
 "nbformat": 4,
 "nbformat_minor": 5
}
