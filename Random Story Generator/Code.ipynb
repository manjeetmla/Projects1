{
 "cells": [
  {
   "cell_type": "code",
   "execution_count": 72,
   "id": "0d3639d4-506a-44ae-a882-569badac87ea",
   "metadata": {
    "tags": []
   },
   "outputs": [
    {
     "name": "stdout",
     "output_type": "stream",
     "text": [
      "Hello Reader! This is your story generator\n"
     ]
    }
   ],
   "source": [
    "import random\n",
    "\n",
    "print (\"Hello Reader! This is your story generator\")"
   ]
  },
  {
   "cell_type": "code",
   "execution_count": 73,
   "id": "510fb52d-15dd-4e17-bd30-b0a4a8f23ef6",
   "metadata": {
    "tags": []
   },
   "outputs": [
    {
     "name": "stdin",
     "output_type": "stream",
     "text": [
      "Enter your name here:  manjeet\n"
     ]
    },
    {
     "name": "stdout",
     "output_type": "stream",
     "text": [
      "Hello manjeet\n"
     ]
    }
   ],
   "source": [
    "readername = input('Enter your name here: ') \n",
    "print('Hello ' + readername)"
   ]
  },
  {
   "cell_type": "code",
   "execution_count": 74,
   "id": "d40485bf-f2e5-440b-814f-98308278d0cb",
   "metadata": {
    "tags": []
   },
   "outputs": [],
   "source": [
    "names = ['Ram','Shyam','Sundar','Sita','Gita','Rupesh','Suresh','Shalini']"
   ]
  },
  {
   "cell_type": "code",
   "execution_count": 75,
   "id": "9b3369c4-112f-4211-85ba-bb22e5e18850",
   "metadata": {
    "tags": []
   },
   "outputs": [],
   "source": [
    "places = ['Algeria',' Italy', 'America', 'Canada', 'LA Texas','South Africa',\n",
    "           ' Pakistan',' Twickenham', 'Victoria', 'United Kingdom', 'Germany ', 'Central London']"
   ]
  },
  {
   "cell_type": "code",
   "execution_count": 76,
   "id": "fe770467-65b3-4f62-9e29-6fbc895b63ea",
   "metadata": {
    "tags": []
   },
   "outputs": [],
   "source": [
    "quests = ['arrive to a grand building and take a photograph',\n",
    "         'go to meet a celebrity ', ' drive in a large jeep',\n",
    "         'Eat pizza at the most lavish restaurant you come across', 'travel on the London Eye in the middle of the night',\n",
    "          'Buy 20 expensive things in the most extravagant shop they see along the street ',\n",
    "          ' Go to the most beautiful area they search up in India ']"
   ]
  },
  {
   "cell_type": "code",
   "execution_count": 77,
   "id": "59923dbe-455e-4558-8d89-56a06a25e70a",
   "metadata": {
    "tags": []
   },
   "outputs": [],
   "source": [
    "roles= [' normal girl', 'normal boy', 'old man', 'teenage girl',\n",
    "        ' secondary student', 'student', 'posh girl',' worker at harrods university']"
   ]
  },
  {
   "cell_type": "code",
   "execution_count": 78,
   "id": "6982644b-3a1f-4d9b-90a0-203822cfe75e",
   "metadata": {
    "tags": []
   },
   "outputs": [],
   "source": [
    "weather = [' a sunny day', 'a very humid and hot day', 'a cold night, a cloudy day', 'a rainy day ']"
   ]
  },
  {
   "cell_type": "code",
   "execution_count": 83,
   "id": "c61c676e-c521-4a6c-a2dd-5328e8663c8a",
   "metadata": {
    "tags": []
   },
   "outputs": [],
   "source": [
    "randomname = random.choice(names)\n",
    "randomplace = random.choice(places)\n",
    "randomquest = random.choice(quests)\n",
    "randomroles = random.choice(roles)\n",
    "randomweather = random.choice(weather)"
   ]
  },
  {
   "cell_type": "code",
   "execution_count": 84,
   "id": "0e523f87-c460-4f81-b4b2-7df70aabbded",
   "metadata": {
    "tags": []
   },
   "outputs": [],
   "source": [
    "story = (\"Once upon a time a \" + randomroles + \" called \" + randomname + \" lived in a beautiful area called \"\n",
    "         + randomplace + \" where it was \" + randomweather + \" and in this place \" + randomname + \n",
    "         \" will have to \" + randomquest + \" . \")"
   ]
  },
  {
   "cell_type": "code",
   "execution_count": 85,
   "id": "238f17e3-8852-4e1b-9f77-ee3ec1dfc696",
   "metadata": {
    "tags": []
   },
   "outputs": [
    {
     "name": "stdout",
     "output_type": "stream",
     "text": [
      "Once upon a time a old man called Rupesh lived in a beautiful area called Germany  where it was  a sunny day and in this place Rupesh will have to  Go to the most beautiful area they search up in India  . \n"
     ]
    }
   ],
   "source": [
    "print(story)"
   ]
  },
  {
   "cell_type": "code",
   "execution_count": null,
   "id": "be68abe0-af9e-4d9a-8800-f7277d19095e",
   "metadata": {},
   "outputs": [],
   "source": []
  }
 ],
 "metadata": {
  "kernelspec": {
   "display_name": "Python 3 (ipykernel)",
   "language": "python",
   "name": "python3"
  },
  "language_info": {
   "codemirror_mode": {
    "name": "ipython",
    "version": 3
   },
   "file_extension": ".py",
   "mimetype": "text/x-python",
   "name": "python",
   "nbconvert_exporter": "python",
   "pygments_lexer": "ipython3",
   "version": "3.11.4"
  }
 },
 "nbformat": 4,
 "nbformat_minor": 5
}
